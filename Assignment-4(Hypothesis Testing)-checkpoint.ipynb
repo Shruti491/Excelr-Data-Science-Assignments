{
 "cells": [
  {
   "cell_type": "code",
   "execution_count": 1,
   "id": "a8dc26d7-2786-433c-a3a5-70210f91e3b0",
   "metadata": {},
   "outputs": [],
   "source": [
    "import pandas as pd\n",
    "import numpy as np\n",
    "from scipy import stats"
   ]
  },
  {
   "cell_type": "markdown",
   "id": "78ecec3d-7d99-4810-a568-24702aeceb43",
   "metadata": {},
   "source": [
    "# Hypothesis Test"
   ]
  },
  {
   "cell_type": "code",
   "execution_count": 3,
   "id": "69d3dfb2-2cbe-4342-bc1b-485f0682e3c9",
   "metadata": {},
   "outputs": [],
   "source": [
    "theoretical_cost_intercept = 1000 \n",
    "theoretical_cost_per_unit = 5     \n",
    "sample_mean = 3050           \n",
    "sample_size = 25                \n",
    "mean_units_produced = 600         \n",
    "std_units_produced = 25  "
   ]
  },
  {
   "cell_type": "code",
   "execution_count": 4,
   "id": "f109bbf0-848c-4c6f-9c6e-5d3228577095",
   "metadata": {},
   "outputs": [],
   "source": [
    "mean_theoretical_cost = theoretical_cost_intercept + theoretical_cost_per_unit * mean_units_produced"
   ]
  },
  {
   "cell_type": "code",
   "execution_count": 5,
   "id": "60dc7270-84cc-41d6-93e4-4a49e5997c46",
   "metadata": {},
   "outputs": [],
   "source": [
    "std_error = (std_units_produced * theoretical_cost_per_unit) / np.sqrt(sample_size)\n"
   ]
  },
  {
   "cell_type": "code",
   "execution_count": 6,
   "id": "c7af022d-d13f-4113-8afb-c4947e0b9db4",
   "metadata": {},
   "outputs": [],
   "source": [
    "z_score = (sample_mean - mean_theoretical_cost) / std_error\n",
    "p = 1 - stats.norm.cdf(z_score) "
   ]
  },
  {
   "cell_type": "code",
   "execution_count": 7,
   "id": "f20f5ee3-85b0-40c6-85c3-b077355f6696",
   "metadata": {},
   "outputs": [
    {
     "name": "stdout",
     "output_type": "stream",
     "text": [
      "Theoretical mean weekly cost: 4000\n",
      "Standard error of the mean (SEM): 25.0\n",
      "Z-score: -38.0\n",
      "P: 1.0\n"
     ]
    }
   ],
   "source": [
    "print(\"Theoretical mean weekly cost:\", mean_theoretical_cost)\n",
    "print(\"Standard error of the mean (SEM):\", std_error)\n",
    "print(\"Z-score:\", z_score)\n",
    "print(\"P:\", p)\n"
   ]
  },
  {
   "cell_type": "code",
   "execution_count": 8,
   "id": "c23972ae-2291-4b3c-99b8-6115b0269c9b",
   "metadata": {},
   "outputs": [
    {
     "name": "stdout",
     "output_type": "stream",
     "text": [
      "Fail to reject null hypothesis\n"
     ]
    }
   ],
   "source": [
    "if p < 0.05:\n",
    "    print('Reject Null hypothesis')\n",
    "else:\n",
    "    print('Fail to reject null hypothesis')"
   ]
  },
  {
   "cell_type": "markdown",
   "id": "c4d8238a-435e-436d-94d2-11349afc116c",
   "metadata": {},
   "source": [
    "# chi2"
   ]
  },
  {
   "cell_type": "code",
   "execution_count": 10,
   "id": "55812b37-5c74-4a4b-ad72-527cd372b1f9",
   "metadata": {},
   "outputs": [],
   "source": [
    "from scipy.stats import chi2_contingency"
   ]
  },
  {
   "cell_type": "code",
   "execution_count": 11,
   "id": "60e42635-f5a5-4abf-86dc-8bb1789167e7",
   "metadata": {},
   "outputs": [
    {
     "data": {
      "text/html": [
       "<div>\n",
       "<style scoped>\n",
       "    .dataframe tbody tr th:only-of-type {\n",
       "        vertical-align: middle;\n",
       "    }\n",
       "\n",
       "    .dataframe tbody tr th {\n",
       "        vertical-align: top;\n",
       "    }\n",
       "\n",
       "    .dataframe thead th {\n",
       "        text-align: right;\n",
       "    }\n",
       "</style>\n",
       "<table border=\"1\" class=\"dataframe\">\n",
       "  <thead>\n",
       "    <tr style=\"text-align: right;\">\n",
       "      <th></th>\n",
       "      <th>Smart Thermostat</th>\n",
       "      <th>Smart Light</th>\n",
       "      <th>Total</th>\n",
       "    </tr>\n",
       "    <tr>\n",
       "      <th>Satisfaction</th>\n",
       "      <th></th>\n",
       "      <th></th>\n",
       "      <th></th>\n",
       "    </tr>\n",
       "  </thead>\n",
       "  <tbody>\n",
       "    <tr>\n",
       "      <th>Very Satisfied</th>\n",
       "      <td>50</td>\n",
       "      <td>70</td>\n",
       "      <td>120</td>\n",
       "    </tr>\n",
       "    <tr>\n",
       "      <th>Satisfied</th>\n",
       "      <td>80</td>\n",
       "      <td>100</td>\n",
       "      <td>180</td>\n",
       "    </tr>\n",
       "    <tr>\n",
       "      <th>Neutral</th>\n",
       "      <td>60</td>\n",
       "      <td>90</td>\n",
       "      <td>150</td>\n",
       "    </tr>\n",
       "    <tr>\n",
       "      <th>Unsatisfied</th>\n",
       "      <td>30</td>\n",
       "      <td>50</td>\n",
       "      <td>80</td>\n",
       "    </tr>\n",
       "    <tr>\n",
       "      <th>Very Unsatisfied</th>\n",
       "      <td>20</td>\n",
       "      <td>50</td>\n",
       "      <td>70</td>\n",
       "    </tr>\n",
       "    <tr>\n",
       "      <th>Total</th>\n",
       "      <td>240</td>\n",
       "      <td>360</td>\n",
       "      <td>600</td>\n",
       "    </tr>\n",
       "  </tbody>\n",
       "</table>\n",
       "</div>"
      ],
      "text/plain": [
       "                  Smart Thermostat  Smart Light  Total\n",
       "Satisfaction                                          \n",
       "Very Satisfied                  50           70    120\n",
       "Satisfied                       80          100    180\n",
       "Neutral                         60           90    150\n",
       "Unsatisfied                     30           50     80\n",
       "Very Unsatisfied                20           50     70\n",
       "Total                          240          360    600"
      ]
     },
     "execution_count": 11,
     "metadata": {},
     "output_type": "execute_result"
    }
   ],
   "source": [
    "df = pd.read_excel(r\"C:\\Users\\Shruti\\OneDrive\\Documents\\Assi chi2.xlsx\", index_col=0)\n",
    "df"
   ]
  },
  {
   "cell_type": "code",
   "execution_count": 12,
   "id": "d12e4f17-ca3a-466a-9c19-3995e0ad2d68",
   "metadata": {},
   "outputs": [
    {
     "data": {
      "text/html": [
       "<div>\n",
       "<style scoped>\n",
       "    .dataframe tbody tr th:only-of-type {\n",
       "        vertical-align: middle;\n",
       "    }\n",
       "\n",
       "    .dataframe tbody tr th {\n",
       "        vertical-align: top;\n",
       "    }\n",
       "\n",
       "    .dataframe thead th {\n",
       "        text-align: right;\n",
       "    }\n",
       "</style>\n",
       "<table border=\"1\" class=\"dataframe\">\n",
       "  <thead>\n",
       "    <tr style=\"text-align: right;\">\n",
       "      <th>Smart Light</th>\n",
       "      <th>50</th>\n",
       "      <th>70</th>\n",
       "      <th>90</th>\n",
       "      <th>100</th>\n",
       "      <th>360</th>\n",
       "    </tr>\n",
       "    <tr>\n",
       "      <th>Smart Thermostat</th>\n",
       "      <th></th>\n",
       "      <th></th>\n",
       "      <th></th>\n",
       "      <th></th>\n",
       "      <th></th>\n",
       "    </tr>\n",
       "  </thead>\n",
       "  <tbody>\n",
       "    <tr>\n",
       "      <th>20</th>\n",
       "      <td>1</td>\n",
       "      <td>0</td>\n",
       "      <td>0</td>\n",
       "      <td>0</td>\n",
       "      <td>0</td>\n",
       "    </tr>\n",
       "    <tr>\n",
       "      <th>30</th>\n",
       "      <td>1</td>\n",
       "      <td>0</td>\n",
       "      <td>0</td>\n",
       "      <td>0</td>\n",
       "      <td>0</td>\n",
       "    </tr>\n",
       "    <tr>\n",
       "      <th>50</th>\n",
       "      <td>0</td>\n",
       "      <td>1</td>\n",
       "      <td>0</td>\n",
       "      <td>0</td>\n",
       "      <td>0</td>\n",
       "    </tr>\n",
       "    <tr>\n",
       "      <th>60</th>\n",
       "      <td>0</td>\n",
       "      <td>0</td>\n",
       "      <td>1</td>\n",
       "      <td>0</td>\n",
       "      <td>0</td>\n",
       "    </tr>\n",
       "    <tr>\n",
       "      <th>80</th>\n",
       "      <td>0</td>\n",
       "      <td>0</td>\n",
       "      <td>0</td>\n",
       "      <td>1</td>\n",
       "      <td>0</td>\n",
       "    </tr>\n",
       "    <tr>\n",
       "      <th>240</th>\n",
       "      <td>0</td>\n",
       "      <td>0</td>\n",
       "      <td>0</td>\n",
       "      <td>0</td>\n",
       "      <td>1</td>\n",
       "    </tr>\n",
       "  </tbody>\n",
       "</table>\n",
       "</div>"
      ],
      "text/plain": [
       "Smart Light       50   70   90   100  360\n",
       "Smart Thermostat                         \n",
       "20                  1    0    0    0    0\n",
       "30                  1    0    0    0    0\n",
       "50                  0    1    0    0    0\n",
       "60                  0    0    1    0    0\n",
       "80                  0    0    0    1    0\n",
       "240                 0    0    0    0    1"
      ]
     },
     "execution_count": 12,
     "metadata": {},
     "output_type": "execute_result"
    }
   ],
   "source": [
    "obs = pd.crosstab(index=df['Smart Thermostat'],columns=df['Smart Light'])\n",
    "obs"
   ]
  },
  {
   "cell_type": "code",
   "execution_count": 13,
   "id": "07b03cbb-fece-4533-b499-58f29ac2ac7f",
   "metadata": {},
   "outputs": [],
   "source": [
    "chi2, p, df, exp = stats.chi2_contingency(obs)"
   ]
  },
  {
   "cell_type": "code",
   "execution_count": 14,
   "id": "13270683-0f37-4359-8376-a3ebe5e02d4d",
   "metadata": {},
   "outputs": [
    {
     "data": {
      "text/plain": [
       "(24.000000000000007,\n",
       " 0.2423921616705121,\n",
       " 20,\n",
       " array([[0.33333333, 0.16666667, 0.16666667, 0.16666667, 0.16666667],\n",
       "        [0.33333333, 0.16666667, 0.16666667, 0.16666667, 0.16666667],\n",
       "        [0.33333333, 0.16666667, 0.16666667, 0.16666667, 0.16666667],\n",
       "        [0.33333333, 0.16666667, 0.16666667, 0.16666667, 0.16666667],\n",
       "        [0.33333333, 0.16666667, 0.16666667, 0.16666667, 0.16666667],\n",
       "        [0.33333333, 0.16666667, 0.16666667, 0.16666667, 0.16666667]]))"
      ]
     },
     "execution_count": 14,
     "metadata": {},
     "output_type": "execute_result"
    }
   ],
   "source": [
    "chi2,p,df,exp"
   ]
  },
  {
   "cell_type": "code",
   "execution_count": 15,
   "id": "ff7c3637-c45e-4bfa-872c-224f223e753c",
   "metadata": {},
   "outputs": [
    {
     "name": "stdout",
     "output_type": "stream",
     "text": [
      "Fail to reject null hypothesis\n"
     ]
    }
   ],
   "source": [
    "if p < 0.05:\n",
    "    print('Reject Null hypothesis')\n",
    "else:\n",
    "    print('Fail to reject null hypothesis')"
   ]
  }
 ],
 "metadata": {
  "kernelspec": {
   "display_name": "Python 3 (ipykernel)",
   "language": "python",
   "name": "python3"
  },
  "language_info": {
   "codemirror_mode": {
    "name": "ipython",
    "version": 3
   },
   "file_extension": ".py",
   "mimetype": "text/x-python",
   "name": "python",
   "nbconvert_exporter": "python",
   "pygments_lexer": "ipython3",
   "version": "3.12.4"
  }
 },
 "nbformat": 4,
 "nbformat_minor": 5
}
